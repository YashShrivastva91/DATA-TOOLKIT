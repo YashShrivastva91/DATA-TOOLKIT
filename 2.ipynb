{
 "cells": [
  {
   "cell_type": "code",
   "execution_count": 1,
   "id": "00919ac8-0830-4b4b-9a19-8187080d035e",
   "metadata": {},
   "outputs": [
    {
     "name": "stdout",
     "output_type": "stream",
     "text": [
      "['Untitled.ipynb', '.ipynb_checkpoints', 'Untitled1.ipynb', 'Untitled2.ipynb', 'People Data.csv']\n"
     ]
    }
   ],
   "source": [
    "import os\n",
    "\n",
    "# List files in the root directory\n",
    "print(os.listdir('.'))"
   ]
  },
  {
   "cell_type": "code",
   "execution_count": 2,
   "id": "dd876b7c-077b-4531-96af-6fb636f94afc",
   "metadata": {},
   "outputs": [],
   "source": [
    "file_path = 'People Data.csv'"
   ]
  },
  {
   "cell_type": "code",
   "execution_count": 3,
   "id": "f6cc380a-7377-4113-a366-59170791f136",
   "metadata": {},
   "outputs": [
    {
     "name": "stdout",
     "output_type": "stream",
     "text": [
      "Index             int64\n",
      "User Id          object\n",
      "First Name       object\n",
      "Last Name        object\n",
      "Gender           object\n",
      "Email            object\n",
      "Phone            object\n",
      "Date of birth    object\n",
      "Job Title        object\n",
      "Salary            int64\n",
      "dtype: object\n",
      "   Index          User Id First Name Last Name  Gender  \\\n",
      "0      1  8717bbf45cCDbEe     Shelia   Mahoney    Male   \n",
      "1      2  3d5AD30A4cD38ed         Jo    Rivers  Female   \n",
      "2      3  810Ce0F276Badec     Sheryl    Lowery  Female   \n",
      "3      4  BF2a889C00f0cE1    Whitney    Hooper    Male   \n",
      "4      5  9afFEafAe1CBBB9    Lindsey      Rice  Female   \n",
      "\n",
      "                           Email               Phone Date of birth  \\\n",
      "0            pwarner@example.org        857.139.8239    27-01-2014   \n",
      "1  fergusonkatherine@example.net                 NaN    26-07-1931   \n",
      "2            fhoward@example.org       (599)782-0605    25-11-2013   \n",
      "3          zjohnston@example.com                 NaN    17-11-2012   \n",
      "4               elin@example.net  (390)417-1635x3010    15-04-1923   \n",
      "\n",
      "                  Job Title  Salary  \n",
      "0         Probation officer   90000  \n",
      "1                    Dancer   80000  \n",
      "2                      Copy   50000  \n",
      "3  Counselling psychologist   65000  \n",
      "4       Biomedical engineer  100000  \n"
     ]
    }
   ],
   "source": [
    "import pandas as pd\n",
    "\n",
    "# Load the CSV file\n",
    "file_path = 'People Data.csv'\n",
    "data = pd.read_csv(file_path)\n",
    "\n",
    "# Display the data types and attributes\n",
    "print(data.dtypes)\n",
    "print(data.head())"
   ]
  },
  {
   "cell_type": "code",
   "execution_count": 4,
   "id": "1ec266a2-4c99-426d-9cf7-45b611f60aab",
   "metadata": {},
   "outputs": [
    {
     "name": "stdout",
     "output_type": "stream",
     "text": [
      "   Index          User Id First Name Last Name  Gender  \\\n",
      "0      1  8717bbf45cCDbEe     Shelia   Mahoney    Male   \n",
      "1      2  3d5AD30A4cD38ed         Jo    Rivers  Female   \n",
      "2      3  810Ce0F276Badec     Sheryl    Lowery  Female   \n",
      "3      4  BF2a889C00f0cE1    Whitney    Hooper    Male   \n",
      "4      5  9afFEafAe1CBBB9    Lindsey      Rice  Female   \n",
      "\n",
      "                           Email           Phone Date of birth  \\\n",
      "0            pwarner@example.org      8571398239    27-01-2014   \n",
      "1  fergusonkatherine@example.net            <NA>    26-07-1931   \n",
      "2            fhoward@example.org      5997820605    25-11-2013   \n",
      "3          zjohnston@example.com            <NA>    17-11-2012   \n",
      "4               elin@example.net  39041716353010    15-04-1923   \n",
      "\n",
      "                  Job Title  Salary  \n",
      "0         Probation officer   90000  \n",
      "1                    Dancer   80000  \n",
      "2                      Copy   50000  \n",
      "3  Counselling psychologist   65000  \n",
      "4       Biomedical engineer  100000  \n",
      "Index             int64\n",
      "User Id          object\n",
      "First Name       object\n",
      "Last Name        object\n",
      "Gender           object\n",
      "Email            object\n",
      "Phone             Int64\n",
      "Date of birth    object\n",
      "Job Title        object\n",
      "Salary            int64\n",
      "dtype: object\n"
     ]
    }
   ],
   "source": [
    "## Q7.Clean and transform the 'Phone' column in the sample dataset to remove \n",
    "## non-numeric characters and convert it to a numeric data type.\n",
    "## Also display the table attributes and data types of each column.\n",
    "import pandas as pd\n",
    "import re\n",
    "\n",
    "file_path = 'People Data.csv'\n",
    "data = pd.read_csv(file_path)\n",
    "\n",
    "# Function to clean phone numbers\n",
    "def clean_phone_number(phone):\n",
    "    if pd.isna(phone):\n",
    "        return None\n",
    "    # Remove non-numeric characters\n",
    "    cleaned_phone = ''.join(filter(str.isdigit, str(phone)))\n",
    "    return int(cleaned_phone) if cleaned_phone else None\n",
    "\n",
    "# Apply the function to the 'Phone' column\n",
    "data['Phone'] = data['Phone'].apply(clean_phone_number).astype('Int64')\n",
    "\n",
    "# Display the updated DataFrame and data types of each column\n",
    "print(data.head())\n",
    "print(data.dtypes)\n"
   ]
  },
  {
   "cell_type": "code",
   "execution_count": 5,
   "id": "43fce0f0-6caf-4618-b833-70e1bb979668",
   "metadata": {},
   "outputs": [
    {
     "name": "stdout",
     "output_type": "stream",
     "text": [
      "  Last Name  Gender                       Email                   Phone  \\\n",
      "0    Zavala    Male        pamela64@example.net  001-859-448-9935x54536   \n",
      "1     Carey  Female   dianashepherd@example.net    001-274-739-8470x814   \n",
      "2     Hobbs  Female   ingramtiffany@example.org        241.179.9509x498   \n",
      "3    Reilly    Male  carriecrawford@example.org       207.797.8345x6177   \n",
      "4    Conrad    Male  fuentesclaudia@example.net    001-599-042-7428x143   \n",
      "5      Cole    Male      kaneaudrey@example.org            663-280-5834   \n",
      "6   Donovan    Male   rebekahsantos@example.net                     NaN   \n",
      "7    Little  Female         craig28@example.com       125.219.3673x0076   \n",
      "8    Dawson  Female  connercourtney@example.net      650-748-3069x64529   \n",
      "9      Page    Male  harrygallagher@example.com        849.500.6331x717   \n",
      "\n",
      "   Salary  \n",
      "0   80000  \n",
      "1   70000  \n",
      "2   60000  \n",
      "3  100000  \n",
      "4   50000  \n",
      "5   85000  \n",
      "6   65000  \n",
      "7   60000  \n",
      "8   60000  \n",
      "9   60000  \n",
      "945     90000\n",
      "946     50000\n",
      "947     60000\n",
      "948    100000\n",
      "949     90000\n",
      "Name: Salary, dtype: int64\n"
     ]
    }
   ],
   "source": [
    "## Q8. Perform the following tasks using people dataset:\n",
    "##a) Read the 'data.csv' file using pandas, skipping the first 50 rows. \n",
    "##b) Only read the columns: 'Last Name', ‘Gender’, ’Email’, ‘Phone’ and ‘Salary’ from the file. \n",
    "##c) Display the first 10 rows of the filtered dataset.  \n",
    "##d) Extract the ‘Salary’' column as a Series and display its last 5 values.\n",
    "## SOLUTION --\n",
    "import pandas as pd\n",
    "\n",
    "# Task a: Read the 'People Data.csv' file, skipping the first 50 rows\n",
    "file_path = 'People Data.csv'\n",
    "people_data_skip = pd.read_csv(file_path, skiprows=range(1, 51))\n",
    "\n",
    "# Task b: Only read the specified columns\n",
    "columns_to_read = ['Last Name', 'Gender', 'Email', 'Phone', 'Salary']\n",
    "filtered_data = people_data_skip[columns_to_read]\n",
    "\n",
    "# Task c: Display the first 10 rows of the filtered dataset\n",
    "first_10_rows = filtered_data.head(10)\n",
    "print(first_10_rows)\n",
    "\n",
    "# Task d: Extract the ‘Salary’ column as a Series and display its last 5 values\n",
    "salary_series = filtered_data['Salary']\n",
    "last_5_salaries = salary_series.tail(5)\n",
    "print(last_5_salaries)"
   ]
  },
  {
   "cell_type": "code",
   "execution_count": 6,
   "id": "d5260389-b974-408e-ba72-650e7269e25c",
   "metadata": {},
   "outputs": [
    {
     "name": "stdout",
     "output_type": "stream",
     "text": [
      "     Index          User Id First Name Last Name  Gender  \\\n",
      "45      46  99A502C175C4EBd     Olivia      Duke  Female   \n",
      "210    211  DF17975CC0a0373    Katrina      Duke  Female   \n",
      "457    458  dcE1B7DE83c1076      Traci      Duke  Female   \n",
      "729    730  c9b482D7aa3e682     Lonnie      Duke  Female   \n",
      "\n",
      "                        Email                   Phone Date of birth  \\\n",
      "45        diana26@example.net  001-366-475-8607x04350    13-10-1934   \n",
      "210       robin78@example.com            740.434.0212    21-09-1935   \n",
      "457  perryhoffman@example.org     +1-903-596-0995x489    11-02-1997   \n",
      "729   kevinkramer@example.net            982.692.6257    12-05-2015   \n",
      "\n",
      "           Job Title  Salary  \n",
      "45           Dentist   60000  \n",
      "210  Producer, radio   50000  \n",
      "457        Herbalist   50000  \n",
      "729     Nurse, adult   70000  \n"
     ]
    }
   ],
   "source": [
    "##Q9. Filter and select rows from the People_Dataset, where the “Last Name' column contains the name 'Duke',  'Gender' column contains the word Female and ‘Salary’ should Pe less than 85000\n",
    "## solution -- \n",
    "import pandas as pd\n",
    "\n",
    "# Read the 'People Data.csv' file\n",
    "file_path = 'People Data.csv'\n",
    "people_data = pd.read_csv(file_path)\n",
    "\n",
    "# Filter the dataset based on the given conditions\n",
    "filtered_data = people_data[\n",
    "    (people_data['Last Name'] == 'Duke') & \n",
    "    (people_data['Gender'] == 'Female') & \n",
    "    (people_data['Salary'] < 85000)\n",
    "]\n",
    "\n",
    "# Display the filtered dataset\n",
    "print(filtered_data)"
   ]
  },
  {
   "cell_type": "code",
   "execution_count": 7,
   "id": "4e83953a-4acc-4379-aca9-8060875d4064",
   "metadata": {},
   "outputs": [
    {
     "name": "stdout",
     "output_type": "stream",
     "text": [
      "     Index          User Id First Name Last Name  Gender  \\\n",
      "0        1  8717bbf45cCDbEe     Shelia   Mahoney    Male   \n",
      "1        2  3d5AD30A4cD38ed         Jo    Rivers  Female   \n",
      "2        3  810Ce0F276Badec     Sheryl    Lowery  Female   \n",
      "3        4  BF2a889C00f0cE1    Whitney    Hooper    Male   \n",
      "4        5  9afFEafAe1CBBB9    Lindsey      Rice  Female   \n",
      "..     ...              ...        ...       ...     ...   \n",
      "995    996  fedF4c7Fd9e7cFa       Kurt    Bryant  Female   \n",
      "996    997  ECddaFEDdEc4FAB      Donna     Barry  Female   \n",
      "997    998  2adde51d8B8979E      Cathy  Mckinney  Female   \n",
      "998    999  Fb2FE369D1E171A   Jermaine    Phelps    Male   \n",
      "999   1000  8b756f6231DDC6e        Lee      Tran  Female   \n",
      "\n",
      "                           Job Title  Salary  \n",
      "0                  Probation officer   90000  \n",
      "1                             Dancer   80000  \n",
      "2                               Copy   50000  \n",
      "3           Counselling psychologist   65000  \n",
      "4                Biomedical engineer  100000  \n",
      "..                               ...     ...  \n",
      "995                Personnel officer   90000  \n",
      "996          Education administrator   50000  \n",
      "997  Commercial/residential surveyor   60000  \n",
      "998                 Ambulance person  100000  \n",
      "999       Nurse, learning disability   90000  \n",
      "\n",
      "[1000 rows x 7 columns]\n"
     ]
    }
   ],
   "source": [
    "##Q12. Perform the following operations using people data set:\n",
    "##a) Delete the 'Email', 'Phone', and 'Date of birth' columns from the dataset. \n",
    "##b) Delete the rows containing any missing values. \n",
    "##c) Print the final output also\n",
    "\n",
    "## solution-- \n",
    "import pandas as pd\n",
    "\n",
    "# Read the 'People Data.csv' file\n",
    "file_path = 'People Data.csv'\n",
    "people_data = pd.read_csv(file_path)\n",
    "\n",
    "# Task a: Delete the 'Email', 'Phone', and 'Date of birth' columns from the dataset\n",
    "people_data = people_data.drop(columns=['Email', 'Phone', 'Date of birth'])\n",
    "\n",
    "# Task b: Delete the rows containing any missing values\n",
    "people_data = people_data.dropna()\n",
    "\n",
    "# Task c: Print the final output\n",
    "print(people_data)"
   ]
  },
  {
   "cell_type": "code",
   "execution_count": null,
   "id": "971eb1e1-e21e-4ad2-b090-b3d7c60ae7ec",
   "metadata": {},
   "outputs": [],
   "source": []
  }
 ],
 "metadata": {
  "kernelspec": {
   "display_name": "Python 3 (ipykernel)",
   "language": "python",
   "name": "python3"
  },
  "language_info": {
   "codemirror_mode": {
    "name": "ipython",
    "version": 3
   },
   "file_extension": ".py",
   "mimetype": "text/x-python",
   "name": "python",
   "nbconvert_exporter": "python",
   "pygments_lexer": "ipython3",
   "version": "3.10.8"
  }
 },
 "nbformat": 4,
 "nbformat_minor": 5
}
